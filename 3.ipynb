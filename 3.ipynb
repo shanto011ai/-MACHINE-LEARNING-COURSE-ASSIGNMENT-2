{
 "cells": [
  {
   "cell_type": "markdown",
   "id": "3ccbf11f",
   "metadata": {},
   "source": [
    "#A student will not be allowed to sit in an exam if his/her attendance is less than 75%."
   ]
  },
  {
   "cell_type": "code",
   "execution_count": 2,
   "id": "164ca992",
   "metadata": {},
   "outputs": [
    {
     "name": "stdout",
     "output_type": "stream",
     "text": [
      "Enter the value of attendance percentage: 88\n",
      "allowed to sit for exam.\n"
     ]
    }
   ],
   "source": [
    "att=float(input('Enter the value of attendance percentage: '))\n",
    "\n",
    "if att<75:\n",
    "    print('Not allowed to sit for exam.')\n",
    "else:\n",
    "    print('allowed to sit for exam.')"
   ]
  }
 ],
 "metadata": {
  "kernelspec": {
   "display_name": "Python 3 (ipykernel)",
   "language": "python",
   "name": "python3"
  },
  "language_info": {
   "codemirror_mode": {
    "name": "ipython",
    "version": 3
   },
   "file_extension": ".py",
   "mimetype": "text/x-python",
   "name": "python",
   "nbconvert_exporter": "python",
   "pygments_lexer": "ipython3",
   "version": "3.10.9"
  }
 },
 "nbformat": 4,
 "nbformat_minor": 5
}
