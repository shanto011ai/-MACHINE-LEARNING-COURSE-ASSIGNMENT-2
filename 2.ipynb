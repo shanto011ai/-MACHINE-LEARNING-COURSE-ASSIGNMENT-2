{
 "cells": [
  {
   "cell_type": "markdown",
   "id": "0bdbe18f",
   "metadata": {},
   "source": [
    "Take three integer values from the user and print the greatest among them."
   ]
  },
  {
   "cell_type": "code",
   "execution_count": null,
   "id": "9b50acdd",
   "metadata": {},
   "outputs": [],
   "source": [
    "print(Énter the Value of the first Integer:')\n",
    "num1=int(input())\n",
    "print('Enter the Value of the Second Integer:')\n",
    "num2=int(input())\n",
    "print('Enter the Value of the Third Integer:')\n",
    "num3=int(input())"
   ]
  },
  {
   "cell_type": "code",
   "execution_count": null,
   "id": "d4b2ee5c",
   "metadata": {},
   "outputs": [],
   "source": [
    "if num1>num2 and num1>num3:\n",
    "  print('Num1 is the greatest.')\n",
    "elif num2>num1 and num2>num3:\n",
    "  print('Num2 is the greatest.')\n",
    "else:\n",
    "  print('Num3 is the greatest.'"
   ]
  },
  {
   "cell_type": "code",
   "execution_count": null,
   "id": "ebd9b1b7",
   "metadata": {},
   "outputs": [],
   "source": [
    "Enter the Value of the First Integer:\n",
    "    8"
   ]
  },
  {
   "cell_type": "code",
   "execution_count": null,
   "id": "bc77d01b",
   "metadata": {},
   "outputs": [],
   "source": [
    "Enter the Value of the First Integer:\n",
    "    12"
   ]
  },
  {
   "cell_type": "code",
   "execution_count": null,
   "id": "77dc721f",
   "metadata": {},
   "outputs": [],
   "source": [
    "Enter the Value of the First Integer:\n",
    "    2"
   ]
  },
  {
   "cell_type": "code",
   "execution_count": null,
   "id": "c813b068",
   "metadata": {},
   "outputs": [],
   "source": []
  }
 ],
 "metadata": {
  "kernelspec": {
   "display_name": "Python 3 (ipykernel)",
   "language": "python",
   "name": "python3"
  },
  "language_info": {
   "codemirror_mode": {
    "name": "ipython",
    "version": 3
   },
   "file_extension": ".py",
   "mimetype": "text/x-python",
   "name": "python",
   "nbconvert_exporter": "python",
   "pygments_lexer": "ipython3",
   "version": "3.10.9"
  }
 },
 "nbformat": 4,
 "nbformat_minor": 5
}
