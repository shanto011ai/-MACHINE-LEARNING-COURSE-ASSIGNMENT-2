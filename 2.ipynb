{
 "cells": [
  {
   "cell_type": "markdown",
   "id": "dfe601c8",
   "metadata": {},
   "source": [
    "#Take three integer values from the user and print the greatest among them."
   ]
  },
  {
   "cell_type": "code",
   "execution_count": 1,
   "id": "8aeb03ef",
   "metadata": {},
   "outputs": [
    {
     "name": "stdout",
     "output_type": "stream",
     "text": [
      "14\n"
     ]
    }
   ],
   "source": [
    "num01=int(input())"
   ]
  },
  {
   "cell_type": "code",
   "execution_count": 2,
   "id": "e86b31f0",
   "metadata": {},
   "outputs": [
    {
     "name": "stdout",
     "output_type": "stream",
     "text": [
      "10\n"
     ]
    }
   ],
   "source": [
    "num02=int(input())"
   ]
  },
  {
   "cell_type": "code",
   "execution_count": 3,
   "id": "27e6d1ec",
   "metadata": {},
   "outputs": [
    {
     "name": "stdout",
     "output_type": "stream",
     "text": [
      "5\n"
     ]
    }
   ],
   "source": [
    "num03=int(input())"
   ]
  },
  {
   "cell_type": "code",
   "execution_count": 4,
   "id": "12fdf64b",
   "metadata": {},
   "outputs": [
    {
     "name": "stdout",
     "output_type": "stream",
     "text": [
      "num01 is the greatest.\n"
     ]
    }
   ],
   "source": [
    "if num01>num02 and num01>num03:\n",
    "    print('num01 is the greatest.')\n",
    "elif num02>num01 and num02>num03:\n",
    "    print('num02 is the greatest.')\n",
    "else:\n",
    "    print('num03 is the greatest.')"
   ]
  }
 ],
 "metadata": {
  "kernelspec": {
   "display_name": "Python 3 (ipykernel)",
   "language": "python",
   "name": "python3"
  },
  "language_info": {
   "codemirror_mode": {
    "name": "ipython",
    "version": 3
   },
   "file_extension": ".py",
   "mimetype": "text/x-python",
   "name": "python",
   "nbconvert_exporter": "python",
   "pygments_lexer": "ipython3",
   "version": "3.10.9"
  }
 },
 "nbformat": 4,
 "nbformat_minor": 5
}
