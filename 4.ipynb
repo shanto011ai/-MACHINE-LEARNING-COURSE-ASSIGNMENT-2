{
 "cells": [
  {
   "cell_type": "markdown",
   "id": "68622f1b",
   "metadata": {},
   "source": [
    "#A school has the following rules for the grading system: \n",
    "Below 25 – F, 25 to 44 – E, 45 to 49 – D, 50 to 59 – C, 60 to 79 – B, 80 to 89 - A, Above 90 - A+ Now, Ask the user to enter marks and print the corresponding grade. \n"
   ]
  },
  {
   "cell_type": "code",
   "execution_count": 4,
   "id": "16126e89",
   "metadata": {},
   "outputs": [
    {
     "name": "stdout",
     "output_type": "stream",
     "text": [
      "Enter the marks: 73\n",
      "B\n"
     ]
    }
   ],
   "source": [
    "grade=int(input('Enter the marks: '))\n",
    "\n",
    "if grade<25:\n",
    "  print('F')\n",
    "elif grade>=25 and grade<=44:\n",
    "  print('E')\n",
    "elif grade>=45 and grade<=49:\n",
    "  print('D')\n",
    "elif grade>=50 and grade<=59:\n",
    "  print('C')\n",
    "elif grade>=60 and grade<=79:\n",
    "  print('B')\n",
    "elif grade>=80 and grade<=89:\n",
    "  print('A')\n",
    "elif grade>90:\n",
    "  print('A+')"
   ]
  },
  {
   "cell_type": "code",
   "execution_count": null,
   "id": "c013ebdd",
   "metadata": {},
   "outputs": [],
   "source": []
  }
 ],
 "metadata": {
  "kernelspec": {
   "display_name": "Python 3 (ipykernel)",
   "language": "python",
   "name": "python3"
  },
  "language_info": {
   "codemirror_mode": {
    "name": "ipython",
    "version": 3
   },
   "file_extension": ".py",
   "mimetype": "text/x-python",
   "name": "python",
   "nbconvert_exporter": "python",
   "pygments_lexer": "ipython3",
   "version": "3.10.9"
  }
 },
 "nbformat": 4,
 "nbformat_minor": 5
}
