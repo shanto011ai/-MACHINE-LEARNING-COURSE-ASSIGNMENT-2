{
 "cells": [
  {
   "cell_type": "markdown",
   "id": "bdde3b6b",
   "metadata": {},
   "source": [
    "# Take values of the length & breadth of a rectangle from user input and check if it is square or not.\n"
   ]
  },
  {
   "cell_type": "code",
   "execution_count": 54,
   "id": "491f1c81",
   "metadata": {},
   "outputs": [],
   "source": [
    "length = 5"
   ]
  },
  {
   "cell_type": "code",
   "execution_count": 55,
   "id": "8082b6e7",
   "metadata": {},
   "outputs": [],
   "source": [
    "breadth = 5"
   ]
  },
  {
   "cell_type": "code",
   "execution_count": 59,
   "id": "f68f44a0",
   "metadata": {},
   "outputs": [
    {
     "name": "stdout",
     "output_type": "stream",
     "text": [
      "square\n"
     ]
    }
   ],
   "source": [
    "if length==breadth:\n",
    "    print('square')\n",
    "else:\n",
    "    print('not square')"
   ]
  },
  {
   "cell_type": "code",
   "execution_count": null,
   "id": "7f3b41d0",
   "metadata": {},
   "outputs": [],
   "source": []
  }
 ],
 "metadata": {
  "kernelspec": {
   "display_name": "Python 3 (ipykernel)",
   "language": "python",
   "name": "python3"
  },
  "language_info": {
   "codemirror_mode": {
    "name": "ipython",
    "version": 3
   },
   "file_extension": ".py",
   "mimetype": "text/x-python",
   "name": "python",
   "nbconvert_exporter": "python",
   "pygments_lexer": "ipython3",
   "version": "3.10.9"
  }
 },
 "nbformat": 4,
 "nbformat_minor": 5
}
